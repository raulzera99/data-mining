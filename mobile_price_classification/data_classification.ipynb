{
 "cells": [
  {
   "cell_type": "markdown",
   "metadata": {},
   "source": [
    "## Implementação do algoritmo KNN (K-Nearest Neighbors) \n",
    "TODO: Comparar holdout e cross-validation"
   ]
  },
  {
   "cell_type": "code",
   "execution_count": 20,
   "metadata": {},
   "outputs": [],
   "source": [
    "from math import sqrt\n",
    "from sklearn.metrics import accuracy_score\n",
    "from sklearn.metrics import f1_score\n",
    "from sklearn.metrics import confusion_matrix\n",
    "from sklearn.neighbors import KNeighborsClassifier\n",
    "from sklearn.model_selection import KFold, StratifiedKFold, cross_val_score\n",
    "from sklearn.preprocessing import MinMaxScaler\n",
    "from sklearn.metrics import accuracy_score\n",
    "from sklearn.metrics import f1_score\n",
    "from sklearn.metrics import confusion_matrix\n",
    "import pandas as pd\n",
    "import numpy as np\n",
    "import matplotlib.pyplot as plt\n",
    "import itertools"
   ]
  },
  {
   "cell_type": "code",
   "execution_count": 5,
   "metadata": {},
   "outputs": [
    {
     "name": "stdout",
     "output_type": "stream",
     "text": [
      "Resultado da clasificação\n",
      "Esperado 0\n",
      "Predição 0\n"
     ]
    }
   ],
   "source": [
    "# função calculo distancia\n",
    "def distancia_euclideana(vet1, vet2):\n",
    "    distancia = 0\n",
    "    for i in range(len(vet1)-1):\n",
    "        distancia += (vet1[i] - vet2[i])**2\n",
    "    distancia = sqrt(distancia)\n",
    "    return distancia\n",
    "\n",
    "# função retorna k vizinhos mais próximos\n",
    "def retorna_vizinhos(base_treinamento, amostra_teste, num_vizinhos):\n",
    "    distancias = list()\n",
    "    for linha_tre in base_treinamento:\n",
    "        dist = distancia_euclideana(amostra_teste, linha_tre)\n",
    "        distancias.append((linha_tre, dist)) # erro\n",
    "    # ordenação das distancias de forma crescente\n",
    "    distancias.sort(key=lambda tup: tup[1]) # erro\n",
    "    # retorna os vizinhos mais proximos\n",
    "    vizinhos = list()\n",
    "    for i in range(num_vizinhos):\n",
    "        vizinhos.append(distancias[i][0]) # erro\n",
    "    return vizinhos\n",
    "\n",
    "# função de predição/classificação\n",
    "def classifica(base_treinamento, amostra_teste, num_vizinhos):\n",
    "    vizinhos = retorna_vizinhos(base_treinamento, amostra_teste, num_vizinhos)\n",
    "    rotulos = [v[-1] for v in vizinhos]\n",
    "    predicao = max(set(rotulos), key=rotulos.count)\n",
    "    return predicao\n",
    "\n",
    "dataset = [[2.7, 2.5, 0],[1.4, 2.3, 0],[3.3, 4.4, 0],[1.3, 1.8, 0],[3.0, 3.0, 0],[7.6, 2.7, 1],[5.3, 2.0, 1],[6.9, 1.7, 1],[8.6,-0.2, 1],[7.6, 3.5, 1]]\n",
    "amostra = [0, 0, 0]\n",
    "predicao = classifica(dataset, amostra, 3)\n",
    "print('Resultado da clasificação')\n",
    "print('Esperado %d\\nPredição %d' % (amostra[-1], predicao))"
   ]
  },
  {
   "cell_type": "code",
   "execution_count": 19,
   "metadata": {},
   "outputs": [],
   "source": [
    "input_file = 'train.csv'\n",
    "\n",
    "# Load the data\n",
    "df = pd.read_csv(input_file)\n",
    "\n",
    "features = ['battery_power', 'blue', 'clock_speed', 'dual_sim', 'fc', 'four_g', 'int_memory', 'm_dep', 'mobile_wt', 'n_cores', 'pc', 'px_height', 'px_width', 'ram', 'sc_h', 'sc_w', 'talk_time', 'three_g', 'touch_screen', 'wifi']\n",
    "target = 'price_range'\n",
    "x = df.loc[:, features].values\n",
    "y = df.loc[:, target].values\n",
    "\n",
    "# x_minmax = MinMaxScaler().fit_transform(x)\n",
    "# normalized_minmax = pd.DataFrame(x_minmax, columns = features)\n",
    "# normalized_minmax = pd.concat([normalized_minmax, df[[target]]], axis = 1)"
   ]
  },
  {
   "cell_type": "code",
   "execution_count": 22,
   "metadata": {},
   "outputs": [
    {
     "name": "stdout",
     "output_type": "stream",
     "text": [
      "Cross Validation Scores:  [0.91  0.96  0.93  0.935 0.935 0.945 0.94  0.92  0.89  0.915]\n",
      "Average CV Score:  0.9280000000000002\n",
      "Number of CV Scores used in Average:  10\n"
     ]
    }
   ],
   "source": [
    "# Create stratified k-fold cross-validation\n",
    "sk_folds = StratifiedKFold(n_splits = 10)\n",
    "\n",
    "# Create the model K Nearest Neighbors\n",
    "knn = KNeighborsClassifier(n_neighbors=9)\n",
    "\n",
    "scores = cross_val_score(knn, x, y, cv=sk_folds)\n",
    "\n",
    "print(\"Cross Validation Scores: \", scores)\n",
    "print(\"Average CV Score: \", scores.mean())\n",
    "print(\"Number of CV Scores used in Average: \", len(scores))"
   ]
  },
  {
   "cell_type": "code",
   "execution_count": 30,
   "metadata": {},
   "outputs": [
    {
     "name": "stdout",
     "output_type": "stream",
     "text": [
      "[[0.22778891 0.         0.68       ... 0.         0.         1.        ]\n",
      " [0.34736139 1.         0.         ... 1.         1.         0.        ]\n",
      " [0.04141617 1.         0.         ... 1.         1.         0.        ]\n",
      " ...\n",
      " [0.94188377 0.         0.16       ... 1.         1.         0.        ]\n",
      " [0.6753507  0.         0.16       ... 1.         1.         1.        ]\n",
      " [0.00601202 1.         0.6        ... 1.         1.         1.        ]]\n",
      "Average Accuracy: 92.80%\n",
      "Average F1 Score: 92.79%\n"
     ]
    }
   ],
   "source": [
    "\n",
    "acc_scores = []\n",
    "f1_scores = []\n",
    "\n",
    "conf_matrices = []\n",
    "\n",
    "# Normalize the data\n",
    "x_minmax = MinMaxScaler().fit_transform(x)\n",
    "print(x_minmax)\n",
    "# normalized_minmax = pd.DataFrame(x_minmax, columns = features)\n",
    "# normalized_minmax = pd.concat([normalized_minmax, df[[target]]], axis = 1)\n",
    "\n",
    "for train_index, test_index in sk_folds.split(x, y):\n",
    "    x_train, x_test = x[train_index], x[test_index]\n",
    "    y_train, y_test = y[train_index], y[test_index]\n",
    "    \n",
    "    knn.fit(x_train, y_train)\n",
    "    predictions = knn.predict(x_test)\n",
    "    \n",
    "    # Compute the confusion matrix\n",
    "    cm = confusion_matrix(y_test, predictions)\n",
    "    conf_matrices.append(cm)\n",
    "    \n",
    "    # Compute accuracy and F1 score\n",
    "    acc = accuracy_score(y_test, predictions)\n",
    "    f1 = f1_score(y_test, predictions, average='weighted')\n",
    "    \n",
    "    acc_scores.append(acc)\n",
    "    f1_scores.append(f1)\n",
    "\n",
    "# Average the scores\n",
    "average_accuracy = np.mean(acc_scores)\n",
    "average_f1_score = np.mean(f1_scores)\n",
    "\n",
    "print(f\"Average Accuracy: {average_accuracy*100:.2f}%\")\n",
    "print(f\"Average F1 Score: {average_f1_score*100:.2f}%\")"
   ]
  },
  {
   "cell_type": "code",
   "execution_count": 24,
   "metadata": {},
   "outputs": [
    {
     "name": "stdout",
     "output_type": "stream",
     "text": [
      "Normalized confusion matrix\n",
      "[[0.582 0.3   0.106 0.012]\n",
      " [0.386 0.312 0.236 0.066]\n",
      " [0.142 0.32  0.35  0.188]\n",
      " [0.03  0.182 0.366 0.422]]\n"
     ]
    },
    {
     "data": {
      "image/png": "[encoded data removed]",
      "text/plain": [
       "<Figure size 432x288 with 2 Axes>"
      ]
     },
     "metadata": {
      "needs_background": "light"
     },
     "output_type": "display_data"
    }
   ],
   "source": [
    "\n",
    "\"\"\"\n",
    "This function prints and plots the confusion matrix.\n",
    "Normalization can be applied by setting `normalize=True`.\n",
    "\"\"\"\n",
    "def plot_confusion_matrix(cm, classes,\n",
    "                          normalize=False,\n",
    "                          title='Confusion matrix',\n",
    "                          cmap=plt.cm.Blues):\n",
    "    plt.figure()\n",
    "    plt.imshow(cm, interpolation='nearest', cmap=cmap)\n",
    "    plt.title(title)\n",
    "    plt.colorbar()\n",
    "    tick_marks = np.arange(len(classes))\n",
    "    plt.xticks(tick_marks, classes, rotation=45)\n",
    "    plt.yticks(tick_marks, classes)\n",
    "\n",
    "    if normalize:\n",
    "        cm = cm.astype('float') / cm.sum(axis=1)[:, np.newaxis]\n",
    "        print(\"Normalized confusion matrix\")\n",
    "    else:\n",
    "        print('Confusion matrix, without normalization')\n",
    "\n",
    "    print(cm)\n",
    "\n",
    "    thresh = cm.max() / 2.\n",
    "    for i, j in itertools.product(range(cm.shape[0]), range(cm.shape[1])):\n",
    "        plt.text(j, i, cm[i, j],\n",
    "                 horizontalalignment=\"center\",\n",
    "                 color=\"white\" if cm[i, j] > thresh else \"black\")\n",
    "\n",
    "    plt.tight_layout()\n",
    "    plt.ylabel('True label')\n",
    "    plt.xlabel('Predicted label')    \n",
    "    \n",
    "plot_confusion_matrix(np.sum(conf_matrices, axis=0), classes=[0, 1, 2, 3], normalize=True, title='Normalized confusion matrix')\n",
    "plt.show()"
   ]
  }
 ],
 "metadata": {
  "kernelspec": {
   "display_name": "base",
   "language": "python",
   "name": "python3"
  },
  "language_info": {
   "codemirror_mode": {
    "name": "ipython",
    "version": 3
   },
   "file_extension": ".py",
   "mimetype": "text/x-python",
   "name": "python",
   "nbconvert_exporter": "python",
   "pygments_lexer": "ipython3",
   "version": "3.9.7"
  }
 },
 "nbformat": 4,
 "nbformat_minor": 2
}
