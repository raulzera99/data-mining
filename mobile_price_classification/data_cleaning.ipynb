{
 "cells": [
  {
   "cell_type": "code",
   "execution_count": 13,
   "metadata": {},
   "outputs": [],
   "source": [
    "import pandas as pd\n",
    "import numpy as np\n"
   ]
  },
  {
   "cell_type": "code",
   "execution_count": 18,
   "metadata": {},
   "outputs": [],
   "source": [
    "# Faz a leitura dos arquivos\n",
    "df_train = pd.read_csv('train.csv')\n",
    "df_test = pd.read_csv('test.csv')\n",
    "\n",
    "# Concatena os dois dataframes de treino e teste\n",
    "df_concat = pd.concat([df_train, df_test])\n",
    "\n",
    "# Remove a coluna 'ID' \n",
    "df_concat.drop('id', axis=1, inplace=True)\n",
    "\n",
    "# Remove as linhas com valores NaN\n",
    "df_concat.dropna(inplace=True)\n",
    "\n",
    "# Mostra as 15 primeiras linhas do dataframe concatenado\n",
    "df_concat.head(15) \n",
    "\n",
    "# Salvar o dataframe concatenado em um arquivo csv\n",
    "df_concat.to_csv('concatenado.csv', index=False)\n",
    "\n",
    "# Mostra as informações do dataframe concatenado\n",
    "df_concat.info()\n",
    "\n",
    "# Mostra a descrição do dataframe concatenado\n",
    "df_concat.describe()\n",
    "\n",
    "# Quantidade de linhas e colunas\n",
    "print(df_concat.shape)"
   ]
  },
  {
   "cell_type": "code",
   "execution_count": null,
   "metadata": {},
   "outputs": [],
   "source": [
    "# Função para limpar um dataframe\n",
    "\n",
    "def clear_df (df, output_csv):\n",
    "    df.drop('id', axis=1, inplace=True)\n",
    "    df.dropna(inplace=True)\n",
    "    df.to_csv(output_csv, index=False)"
   ]
  }
 ],
 "metadata": {
  "kernelspec": {
   "display_name": "base",
   "language": "python",
   "name": "python3"
  },
  "language_info": {
   "codemirror_mode": {
    "name": "ipython",
    "version": 3
   },
   "file_extension": ".py",
   "mimetype": "text/x-python",
   "name": "python",
   "nbconvert_exporter": "python",
   "pygments_lexer": "ipython3",
   "version": "3.9.7"
  }
 },
 "nbformat": 4,
 "nbformat_minor": 2
}
